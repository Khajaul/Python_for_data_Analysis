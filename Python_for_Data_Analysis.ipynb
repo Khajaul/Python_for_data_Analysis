{
  "nbformat": 4,
  "nbformat_minor": 0,
  "metadata": {
    "colab": {
      "name": "Python_for_Data_Analysis",
      "provenance": [],
      "collapsed_sections": []
    },
    "kernelspec": {
      "name": "python3",
      "display_name": "Python 3"
    }
  },
  "cells": [
    {
      "cell_type": "code",
      "metadata": {
        "id": "IB-BiKxPTnpa",
        "colab_type": "code",
        "colab": {
          "base_uri": "https://localhost:8080/",
          "height": 153
        },
        "outputId": "344bc861-736a-4ccd-b27a-680dc524c73f"
      },
      "source": [
        "!git clone https://github.com/Khajaul/Python_for_data_Analysis.git"
      ],
      "execution_count": 1,
      "outputs": [
        {
          "output_type": "stream",
          "text": [
            "Cloning into 'Python_for_data_Analysis'...\n",
            "remote: Enumerating objects: 141, done.\u001b[K\n",
            "remote: Counting objects: 100% (141/141), done.\u001b[K\n",
            "remote: Compressing objects: 100% (30/30), done.\u001b[K\n",
            "remote: Total 141 (delta 110), reused 141 (delta 110), pack-reused 0\u001b[K\n",
            "Receiving objects: 100% (141/141), 75.19 MiB | 22.12 MiB/s, done.\n",
            "Resolving deltas: 100% (110/110), done.\n",
            "Checking out files: 100% (134/134), done.\n"
          ],
          "name": "stdout"
        }
      ]
    },
    {
      "cell_type": "code",
      "metadata": {
        "id": "ve3yNU5HTz4b",
        "colab_type": "code",
        "colab": {
          "base_uri": "https://localhost:8080/",
          "height": 34
        },
        "outputId": "13e44495-3c11-491f-cdc7-6b87b6372a5e"
      },
      "source": [
        "%cd Python_for_data_Analysis/"
      ],
      "execution_count": 3,
      "outputs": [
        {
          "output_type": "stream",
          "text": [
            "/content/Python_for_data_Analysis\n"
          ],
          "name": "stdout"
        }
      ]
    },
    {
      "cell_type": "markdown",
      "metadata": {
        "id": "2LEcKw91XPYN",
        "colab_type": "text"
      },
      "source": [
        "# 1) Import Data"
      ]
    },
    {
      "cell_type": "code",
      "metadata": {
        "id": "jwelGFpfEZaz",
        "colab_type": "code",
        "colab": {}
      },
      "source": [
        "import numpy as np"
      ],
      "execution_count": 0,
      "outputs": []
    },
    {
      "cell_type": "code",
      "metadata": {
        "id": "tLrNCu3rWfpR",
        "colab_type": "code",
        "colab": {}
      },
      "source": [
        "X_train = np.genfromtxt(\"Train/X_train.txt\")\n",
        "Y_train = np.genfromtxt(\"Train/y_train.txt\")\n",
        "X_test = np.genfromtxt(\"Test/X_test.txt\")\n",
        "Y_test = np.genfromtxt(\"Test/y_test.txt\")"
      ],
      "execution_count": 0,
      "outputs": []
    },
    {
      "cell_type": "code",
      "metadata": {
        "id": "uFZPtVzHW59B",
        "colab_type": "code",
        "colab": {
          "base_uri": "https://localhost:8080/",
          "height": 1000
        },
        "outputId": "908e5946-3e7e-4e7d-8006-6fa61aa56f32"
      },
      "source": [
        "tab = []\n",
        "with open(\"features.txt\", \"r\") as features:\n",
        "    for line in features.readlines():\n",
        "        tab.append(line)\n",
        "\n",
        "tab"
      ],
      "execution_count": 127,
      "outputs": [
        {
          "output_type": "execute_result",
          "data": {
            "text/plain": [
              "['tBodyAcc-Mean-1                \\n',\n",
              " 'tBodyAcc-Mean-2                \\n',\n",
              " 'tBodyAcc-Mean-3                \\n',\n",
              " 'tBodyAcc-STD-1                 \\n',\n",
              " 'tBodyAcc-STD-2                 \\n',\n",
              " 'tBodyAcc-STD-3                 \\n',\n",
              " 'tBodyAcc-Mad-1                 \\n',\n",
              " 'tBodyAcc-Mad-2                 \\n',\n",
              " 'tBodyAcc-Mad-3                 \\n',\n",
              " 'tBodyAcc-Max-1                 \\n',\n",
              " 'tBodyAcc-Max-2                 \\n',\n",
              " 'tBodyAcc-Max-3                 \\n',\n",
              " 'tBodyAcc-Min-1                 \\n',\n",
              " 'tBodyAcc-Min-2                 \\n',\n",
              " 'tBodyAcc-Min-3                 \\n',\n",
              " 'tBodyAcc-SMA-1                 \\n',\n",
              " 'tBodyAcc-Energy-1              \\n',\n",
              " 'tBodyAcc-Energy-2              \\n',\n",
              " 'tBodyAcc-Energy-3              \\n',\n",
              " 'tBodyAcc-IQR-1                 \\n',\n",
              " 'tBodyAcc-IQR-2                 \\n',\n",
              " 'tBodyAcc-IQR-3                 \\n',\n",
              " 'tBodyAcc-ropy-1                \\n',\n",
              " 'tBodyAcc-ropy-1                \\n',\n",
              " 'tBodyAcc-ropy-1                \\n',\n",
              " 'tBodyAcc-ARCoeff-1             \\n',\n",
              " 'tBodyAcc-ARCoeff-2             \\n',\n",
              " 'tBodyAcc-ARCoeff-3             \\n',\n",
              " 'tBodyAcc-ARCoeff-4             \\n',\n",
              " 'tBodyAcc-ARCoeff-5             \\n',\n",
              " 'tBodyAcc-ARCoeff-6             \\n',\n",
              " 'tBodyAcc-ARCoeff-7             \\n',\n",
              " 'tBodyAcc-ARCoeff-8             \\n',\n",
              " 'tBodyAcc-ARCoeff-9             \\n',\n",
              " 'tBodyAcc-ARCoeff-10            \\n',\n",
              " 'tBodyAcc-ARCoeff-11            \\n',\n",
              " 'tBodyAcc-ARCoeff-12            \\n',\n",
              " 'tBodyAcc-Correlation-1         \\n',\n",
              " 'tBodyAcc-Correlation-2         \\n',\n",
              " 'tBodyAcc-Correlation-3         \\n',\n",
              " 'tGravityAcc-Mean-1             \\n',\n",
              " 'tGravityAcc-Mean-2             \\n',\n",
              " 'tGravityAcc-Mean-3             \\n',\n",
              " 'tGravityAcc-STD-1              \\n',\n",
              " 'tGravityAcc-STD-2              \\n',\n",
              " 'tGravityAcc-STD-3              \\n',\n",
              " 'tGravityAcc-Mad-1              \\n',\n",
              " 'tGravityAcc-Mad-2              \\n',\n",
              " 'tGravityAcc-Mad-3              \\n',\n",
              " 'tGravityAcc-Max-1              \\n',\n",
              " 'tGravityAcc-Max-2              \\n',\n",
              " 'tGravityAcc-Max-3              \\n',\n",
              " 'tGravityAcc-Min-1              \\n',\n",
              " 'tGravityAcc-Min-2              \\n',\n",
              " 'tGravityAcc-Min-3              \\n',\n",
              " 'tGravityAcc-SMA-1              \\n',\n",
              " 'tGravityAcc-Energy-1           \\n',\n",
              " 'tGravityAcc-Energy-2           \\n',\n",
              " 'tGravityAcc-Energy-3           \\n',\n",
              " 'tGravityAcc-IQR-1              \\n',\n",
              " 'tGravityAcc-IQR-2              \\n',\n",
              " 'tGravityAcc-IQR-3              \\n',\n",
              " 'tGravityAcc-ropy-1             \\n',\n",
              " 'tGravityAcc-ropy-1             \\n',\n",
              " 'tGravityAcc-ropy-1             \\n',\n",
              " 'tGravityAcc-ARCoeff-1          \\n',\n",
              " 'tGravityAcc-ARCoeff-2          \\n',\n",
              " 'tGravityAcc-ARCoeff-3          \\n',\n",
              " 'tGravityAcc-ARCoeff-4          \\n',\n",
              " 'tGravityAcc-ARCoeff-5          \\n',\n",
              " 'tGravityAcc-ARCoeff-6          \\n',\n",
              " 'tGravityAcc-ARCoeff-7          \\n',\n",
              " 'tGravityAcc-ARCoeff-8          \\n',\n",
              " 'tGravityAcc-ARCoeff-9          \\n',\n",
              " 'tGravityAcc-ARCoeff-10         \\n',\n",
              " 'tGravityAcc-ARCoeff-11         \\n',\n",
              " 'tGravityAcc-ARCoeff-12         \\n',\n",
              " 'tGravityAcc-Correlation-1      \\n',\n",
              " 'tGravityAcc-Correlation-2      \\n',\n",
              " 'tGravityAcc-Correlation-3      \\n',\n",
              " 'tBodyAccJerk-Mean-1            \\n',\n",
              " 'tBodyAccJerk-Mean-2            \\n',\n",
              " 'tBodyAccJerk-Mean-3            \\n',\n",
              " 'tBodyAccJerk-STD-1             \\n',\n",
              " 'tBodyAccJerk-STD-2             \\n',\n",
              " 'tBodyAccJerk-STD-3             \\n',\n",
              " 'tBodyAccJerk-Mad-1             \\n',\n",
              " 'tBodyAccJerk-Mad-2             \\n',\n",
              " 'tBodyAccJerk-Mad-3             \\n',\n",
              " 'tBodyAccJerk-Max-1             \\n',\n",
              " 'tBodyAccJerk-Max-2             \\n',\n",
              " 'tBodyAccJerk-Max-3             \\n',\n",
              " 'tBodyAccJerk-Min-1             \\n',\n",
              " 'tBodyAccJerk-Min-2             \\n',\n",
              " 'tBodyAccJerk-Min-3             \\n',\n",
              " 'tBodyAccJerk-SMA-1             \\n',\n",
              " 'tBodyAccJerk-Energy-1          \\n',\n",
              " 'tBodyAccJerk-Energy-2          \\n',\n",
              " 'tBodyAccJerk-Energy-3          \\n',\n",
              " 'tBodyAccJerk-IQR-1             \\n',\n",
              " 'tBodyAccJerk-IQR-2             \\n',\n",
              " 'tBodyAccJerk-IQR-3             \\n',\n",
              " 'tBodyAccJerk-ropy-1            \\n',\n",
              " 'tBodyAccJerk-ropy-1            \\n',\n",
              " 'tBodyAccJerk-ropy-1            \\n',\n",
              " 'tBodyAccJerk-ARCoeff-1         \\n',\n",
              " 'tBodyAccJerk-ARCoeff-2         \\n',\n",
              " 'tBodyAccJerk-ARCoeff-3         \\n',\n",
              " 'tBodyAccJerk-ARCoeff-4         \\n',\n",
              " 'tBodyAccJerk-ARCoeff-5         \\n',\n",
              " 'tBodyAccJerk-ARCoeff-6         \\n',\n",
              " 'tBodyAccJerk-ARCoeff-7         \\n',\n",
              " 'tBodyAccJerk-ARCoeff-8         \\n',\n",
              " 'tBodyAccJerk-ARCoeff-9         \\n',\n",
              " 'tBodyAccJerk-ARCoeff-10        \\n',\n",
              " 'tBodyAccJerk-ARCoeff-11        \\n',\n",
              " 'tBodyAccJerk-ARCoeff-12        \\n',\n",
              " 'tBodyAccJerk-Correlation-1     \\n',\n",
              " 'tBodyAccJerk-Correlation-2     \\n',\n",
              " 'tBodyAccJerk-Correlation-3     \\n',\n",
              " 'tBodyGyro-Mean-1               \\n',\n",
              " 'tBodyGyro-Mean-2               \\n',\n",
              " 'tBodyGyro-Mean-3               \\n',\n",
              " 'tBodyGyro-STD-1                \\n',\n",
              " 'tBodyGyro-STD-2                \\n',\n",
              " 'tBodyGyro-STD-3                \\n',\n",
              " 'tBodyGyro-Mad-1                \\n',\n",
              " 'tBodyGyro-Mad-2                \\n',\n",
              " 'tBodyGyro-Mad-3                \\n',\n",
              " 'tBodyGyro-Max-1                \\n',\n",
              " 'tBodyGyro-Max-2                \\n',\n",
              " 'tBodyGyro-Max-3                \\n',\n",
              " 'tBodyGyro-Min-1                \\n',\n",
              " 'tBodyGyro-Min-2                \\n',\n",
              " 'tBodyGyro-Min-3                \\n',\n",
              " 'tBodyGyro-SMA-1                \\n',\n",
              " 'tBodyGyro-Energy-1             \\n',\n",
              " 'tBodyGyro-Energy-2             \\n',\n",
              " 'tBodyGyro-Energy-3             \\n',\n",
              " 'tBodyGyro-IQR-1                \\n',\n",
              " 'tBodyGyro-IQR-2                \\n',\n",
              " 'tBodyGyro-IQR-3                \\n',\n",
              " 'tBodyGyro-ropy-1               \\n',\n",
              " 'tBodyGyro-ropy-1               \\n',\n",
              " 'tBodyGyro-ropy-1               \\n',\n",
              " 'tBodyGyro-ARCoeff-1            \\n',\n",
              " 'tBodyGyro-ARCoeff-2            \\n',\n",
              " 'tBodyGyro-ARCoeff-3            \\n',\n",
              " 'tBodyGyro-ARCoeff-4            \\n',\n",
              " 'tBodyGyro-ARCoeff-5            \\n',\n",
              " 'tBodyGyro-ARCoeff-6            \\n',\n",
              " 'tBodyGyro-ARCoeff-7            \\n',\n",
              " 'tBodyGyro-ARCoeff-8            \\n',\n",
              " 'tBodyGyro-ARCoeff-9            \\n',\n",
              " 'tBodyGyro-ARCoeff-10           \\n',\n",
              " 'tBodyGyro-ARCoeff-11           \\n',\n",
              " 'tBodyGyro-ARCoeff-12           \\n',\n",
              " 'tBodyGyro-Correlation-1        \\n',\n",
              " 'tBodyGyro-Correlation-2        \\n',\n",
              " 'tBodyGyro-Correlation-3        \\n',\n",
              " 'tBodyGyroJerk-Mean-1           \\n',\n",
              " 'tBodyGyroJerk-Mean-2           \\n',\n",
              " 'tBodyGyroJerk-Mean-3           \\n',\n",
              " 'tBodyGyroJerk-STD-1            \\n',\n",
              " 'tBodyGyroJerk-STD-2            \\n',\n",
              " 'tBodyGyroJerk-STD-3            \\n',\n",
              " 'tBodyGyroJerk-Mad-1            \\n',\n",
              " 'tBodyGyroJerk-Mad-2            \\n',\n",
              " 'tBodyGyroJerk-Mad-3            \\n',\n",
              " 'tBodyGyroJerk-Max-1            \\n',\n",
              " 'tBodyGyroJerk-Max-2            \\n',\n",
              " 'tBodyGyroJerk-Max-3            \\n',\n",
              " 'tBodyGyroJerk-Min-1            \\n',\n",
              " 'tBodyGyroJerk-Min-2            \\n',\n",
              " 'tBodyGyroJerk-Min-3            \\n',\n",
              " 'tBodyGyroJerk-SMA-1            \\n',\n",
              " 'tBodyGyroJerk-Energy-1         \\n',\n",
              " 'tBodyGyroJerk-Energy-2         \\n',\n",
              " 'tBodyGyroJerk-Energy-3         \\n',\n",
              " 'tBodyGyroJerk-IQR-1            \\n',\n",
              " 'tBodyGyroJerk-IQR-2            \\n',\n",
              " 'tBodyGyroJerk-IQR-3            \\n',\n",
              " 'tBodyGyroJerk-ropy-1           \\n',\n",
              " 'tBodyGyroJerk-ropy-1           \\n',\n",
              " 'tBodyGyroJerk-ropy-1           \\n',\n",
              " 'tBodyGyroJerk-ARCoeff-1        \\n',\n",
              " 'tBodyGyroJerk-ARCoeff-2        \\n',\n",
              " 'tBodyGyroJerk-ARCoeff-3        \\n',\n",
              " 'tBodyGyroJerk-ARCoeff-4        \\n',\n",
              " 'tBodyGyroJerk-ARCoeff-5        \\n',\n",
              " 'tBodyGyroJerk-ARCoeff-6        \\n',\n",
              " 'tBodyGyroJerk-ARCoeff-7        \\n',\n",
              " 'tBodyGyroJerk-ARCoeff-8        \\n',\n",
              " 'tBodyGyroJerk-ARCoeff-9        \\n',\n",
              " 'tBodyGyroJerk-ARCoeff-10       \\n',\n",
              " 'tBodyGyroJerk-ARCoeff-11       \\n',\n",
              " 'tBodyGyroJerk-ARCoeff-12       \\n',\n",
              " 'tBodyGyroJerk-Correlation-1    \\n',\n",
              " 'tBodyGyroJerk-Correlation-2    \\n',\n",
              " 'tBodyGyroJerk-Correlation-3    \\n',\n",
              " 'tBodyAccMag-Mean-1             \\n',\n",
              " 'tBodyAccMag-STD-1              \\n',\n",
              " 'tBodyAccMag-Mad-1              \\n',\n",
              " 'tBodyAccMag-Max-1              \\n',\n",
              " 'tBodyAccMag-Min-1              \\n',\n",
              " 'tBodyAccMag-SMA-1              \\n',\n",
              " 'tBodyAccMag-Energy-1           \\n',\n",
              " 'tBodyAccMag-IQR-1              \\n',\n",
              " 'tBodyAccMag-ropy-1             \\n',\n",
              " 'tBodyAccMag-ARCoeff-1          \\n',\n",
              " 'tBodyAccMag-ARCoeff-2          \\n',\n",
              " 'tBodyAccMag-ARCoeff-3          \\n',\n",
              " 'tBodyAccMag-ARCoeff-4          \\n',\n",
              " 'tGravityAccMag-Mean-1          \\n',\n",
              " 'tGravityAccMag-STD-1           \\n',\n",
              " 'tGravityAccMag-Mad-1           \\n',\n",
              " 'tGravityAccMag-Max-1           \\n',\n",
              " 'tGravityAccMag-Min-1           \\n',\n",
              " 'tGravityAccMag-SMA-1           \\n',\n",
              " 'tGravityAccMag-Energy-1        \\n',\n",
              " 'tGravityAccMag-IQR-1           \\n',\n",
              " 'tGravityAccMag-ropy-1          \\n',\n",
              " 'tGravityAccMag-ARCoeff-1       \\n',\n",
              " 'tGravityAccMag-ARCoeff-2       \\n',\n",
              " 'tGravityAccMag-ARCoeff-3       \\n',\n",
              " 'tGravityAccMag-ARCoeff-4       \\n',\n",
              " 'tBodyAccJerkMag-Mean-1         \\n',\n",
              " 'tBodyAccJerkMag-STD-1          \\n',\n",
              " 'tBodyAccJerkMag-Mad-1          \\n',\n",
              " 'tBodyAccJerkMag-Max-1          \\n',\n",
              " 'tBodyAccJerkMag-Min-1          \\n',\n",
              " 'tBodyAccJerkMag-SMA-1          \\n',\n",
              " 'tBodyAccJerkMag-Energy-1       \\n',\n",
              " 'tBodyAccJerkMag-IQR-1          \\n',\n",
              " 'tBodyAccJerkMag-ropy-1         \\n',\n",
              " 'tBodyAccJerkMag-ARCoeff-1      \\n',\n",
              " 'tBodyAccJerkMag-ARCoeff-2      \\n',\n",
              " 'tBodyAccJerkMag-ARCoeff-3      \\n',\n",
              " 'tBodyAccJerkMag-ARCoeff-4      \\n',\n",
              " 'tBodyGyroMag-Mean-1            \\n',\n",
              " 'tBodyGyroMag-STD-1             \\n',\n",
              " 'tBodyGyroMag-Mad-1             \\n',\n",
              " 'tBodyGyroMag-Max-1             \\n',\n",
              " 'tBodyGyroMag-Min-1             \\n',\n",
              " 'tBodyGyroMag-SMA-1             \\n',\n",
              " 'tBodyGyroMag-Energy-1          \\n',\n",
              " 'tBodyGyroMag-IQR-1             \\n',\n",
              " 'tBodyGyroMag-ropy-1            \\n',\n",
              " 'tBodyGyroMag-ARCoeff-1         \\n',\n",
              " 'tBodyGyroMag-ARCoeff-2         \\n',\n",
              " 'tBodyGyroMag-ARCoeff-3         \\n',\n",
              " 'tBodyGyroMag-ARCoeff-4         \\n',\n",
              " 'tBodyGyroJerkMag-Mean-1        \\n',\n",
              " 'tBodyGyroJerkMag-STD-1         \\n',\n",
              " 'tBodyGyroJerkMag-Mad-1         \\n',\n",
              " 'tBodyGyroJerkMag-Max-1         \\n',\n",
              " 'tBodyGyroJerkMag-Min-1         \\n',\n",
              " 'tBodyGyroJerkMag-SMA-1         \\n',\n",
              " 'tBodyGyroJerkMag-Energy-1      \\n',\n",
              " 'tBodyGyroJerkMag-IQR-1         \\n',\n",
              " 'tBodyGyroJerkMag-ropy-1        \\n',\n",
              " 'tBodyGyroJerkMag-ARCoeff-1     \\n',\n",
              " 'tBodyGyroJerkMag-ARCoeff-2     \\n',\n",
              " 'tBodyGyroJerkMag-ARCoeff-3     \\n',\n",
              " 'tBodyGyroJerkMag-ARCoeff-4     \\n',\n",
              " 'fBodyAcc-Mean-1                \\n',\n",
              " 'fBodyAcc-Mean-2                \\n',\n",
              " 'fBodyAcc-Mean-3                \\n',\n",
              " 'fBodyAcc-STD-1                 \\n',\n",
              " 'fBodyAcc-STD-2                 \\n',\n",
              " 'fBodyAcc-STD-3                 \\n',\n",
              " 'fBodyAcc-Mad-1                 \\n',\n",
              " 'fBodyAcc-Mad-2                 \\n',\n",
              " 'fBodyAcc-Mad-3                 \\n',\n",
              " 'fBodyAcc-Max-1                 \\n',\n",
              " 'fBodyAcc-Max-2                 \\n',\n",
              " 'fBodyAcc-Max-3                 \\n',\n",
              " 'fBodyAcc-Min-1                 \\n',\n",
              " 'fBodyAcc-Min-2                 \\n',\n",
              " 'fBodyAcc-Min-3                 \\n',\n",
              " 'fBodyAcc-SMA-1                 \\n',\n",
              " 'fBodyAcc-Energy-1              \\n',\n",
              " 'fBodyAcc-Energy-2              \\n',\n",
              " 'fBodyAcc-Energy-3              \\n',\n",
              " 'fBodyAcc-IQR-1                 \\n',\n",
              " 'fBodyAcc-IQR-2                 \\n',\n",
              " 'fBodyAcc-IQR-3                 \\n',\n",
              " 'fBodyAcc-ropy-1                \\n',\n",
              " 'fBodyAcc-ropy-1                \\n',\n",
              " 'fBodyAcc-ropy-1                \\n',\n",
              " 'fBodyAcc-MaxInds-1             \\n',\n",
              " 'fBodyAcc-MaxInds-2             \\n',\n",
              " 'fBodyAcc-MaxInds-3             \\n',\n",
              " 'fBodyAcc-MeanFreq-1            \\n',\n",
              " 'fBodyAcc-MeanFreq-2            \\n',\n",
              " 'fBodyAcc-MeanFreq-3            \\n',\n",
              " 'fBodyAcc-Skewness-1            \\n',\n",
              " 'fBodyAcc-Kurtosis-1            \\n',\n",
              " 'fBodyAcc-Skewness-1            \\n',\n",
              " 'fBodyAcc-Kurtosis-1            \\n',\n",
              " 'fBodyAcc-Skewness-1            \\n',\n",
              " 'fBodyAcc-Kurtosis-1            \\n',\n",
              " 'fBodyAcc-BandsEnergyOld-1      \\n',\n",
              " 'fBodyAcc-BandsEnergyOld-2      \\n',\n",
              " 'fBodyAcc-BandsEnergyOld-3      \\n',\n",
              " 'fBodyAcc-BandsEnergyOld-4      \\n',\n",
              " 'fBodyAcc-BandsEnergyOld-5      \\n',\n",
              " 'fBodyAcc-BandsEnergyOld-6      \\n',\n",
              " 'fBodyAcc-BandsEnergyOld-7      \\n',\n",
              " 'fBodyAcc-BandsEnergyOld-8      \\n',\n",
              " 'fBodyAcc-BandsEnergyOld-9      \\n',\n",
              " 'fBodyAcc-BandsEnergyOld-10     \\n',\n",
              " 'fBodyAcc-BandsEnergyOld-11     \\n',\n",
              " 'fBodyAcc-BandsEnergyOld-12     \\n',\n",
              " 'fBodyAcc-BandsEnergyOld-13     \\n',\n",
              " 'fBodyAcc-BandsEnergyOld-14     \\n',\n",
              " 'fBodyAcc-BandsEnergyOld-15     \\n',\n",
              " 'fBodyAcc-BandsEnergyOld-16     \\n',\n",
              " 'fBodyAcc-BandsEnergyOld-17     \\n',\n",
              " 'fBodyAcc-BandsEnergyOld-18     \\n',\n",
              " 'fBodyAcc-BandsEnergyOld-19     \\n',\n",
              " 'fBodyAcc-BandsEnergyOld-20     \\n',\n",
              " 'fBodyAcc-BandsEnergyOld-21     \\n',\n",
              " 'fBodyAcc-BandsEnergyOld-22     \\n',\n",
              " 'fBodyAcc-BandsEnergyOld-23     \\n',\n",
              " 'fBodyAcc-BandsEnergyOld-24     \\n',\n",
              " 'fBodyAcc-BandsEnergyOld-25     \\n',\n",
              " 'fBodyAcc-BandsEnergyOld-26     \\n',\n",
              " 'fBodyAcc-BandsEnergyOld-27     \\n',\n",
              " 'fBodyAcc-BandsEnergyOld-28     \\n',\n",
              " 'fBodyAcc-BandsEnergyOld-29     \\n',\n",
              " 'fBodyAcc-BandsEnergyOld-30     \\n',\n",
              " 'fBodyAcc-BandsEnergyOld-31     \\n',\n",
              " 'fBodyAcc-BandsEnergyOld-32     \\n',\n",
              " 'fBodyAcc-BandsEnergyOld-33     \\n',\n",
              " 'fBodyAcc-BandsEnergyOld-34     \\n',\n",
              " 'fBodyAcc-BandsEnergyOld-35     \\n',\n",
              " 'fBodyAcc-BandsEnergyOld-36     \\n',\n",
              " 'fBodyAcc-BandsEnergyOld-37     \\n',\n",
              " 'fBodyAcc-BandsEnergyOld-38     \\n',\n",
              " 'fBodyAcc-BandsEnergyOld-39     \\n',\n",
              " 'fBodyAcc-BandsEnergyOld-40     \\n',\n",
              " 'fBodyAcc-BandsEnergyOld-41     \\n',\n",
              " 'fBodyAcc-BandsEnergyOld-42     \\n',\n",
              " 'fBodyAccJerk-Mean-1            \\n',\n",
              " 'fBodyAccJerk-Mean-2            \\n',\n",
              " 'fBodyAccJerk-Mean-3            \\n',\n",
              " 'fBodyAccJerk-STD-1             \\n',\n",
              " 'fBodyAccJerk-STD-2             \\n',\n",
              " 'fBodyAccJerk-STD-3             \\n',\n",
              " 'fBodyAccJerk-Mad-1             \\n',\n",
              " 'fBodyAccJerk-Mad-2             \\n',\n",
              " 'fBodyAccJerk-Mad-3             \\n',\n",
              " 'fBodyAccJerk-Max-1             \\n',\n",
              " 'fBodyAccJerk-Max-2             \\n',\n",
              " 'fBodyAccJerk-Max-3             \\n',\n",
              " 'fBodyAccJerk-Min-1             \\n',\n",
              " 'fBodyAccJerk-Min-2             \\n',\n",
              " 'fBodyAccJerk-Min-3             \\n',\n",
              " 'fBodyAccJerk-SMA-1             \\n',\n",
              " 'fBodyAccJerk-Energy-1          \\n',\n",
              " 'fBodyAccJerk-Energy-2          \\n',\n",
              " 'fBodyAccJerk-Energy-3          \\n',\n",
              " 'fBodyAccJerk-IQR-1             \\n',\n",
              " 'fBodyAccJerk-IQR-2             \\n',\n",
              " 'fBodyAccJerk-IQR-3             \\n',\n",
              " 'fBodyAccJerk-ropy-1            \\n',\n",
              " 'fBodyAccJerk-ropy-1            \\n',\n",
              " 'fBodyAccJerk-ropy-1            \\n',\n",
              " 'fBodyAccJerk-MaxInds-1         \\n',\n",
              " 'fBodyAccJerk-MaxInds-2         \\n',\n",
              " 'fBodyAccJerk-MaxInds-3         \\n',\n",
              " 'fBodyAccJerk-MeanFreq-1        \\n',\n",
              " 'fBodyAccJerk-MeanFreq-2        \\n',\n",
              " 'fBodyAccJerk-MeanFreq-3        \\n',\n",
              " 'fBodyAccJerk-Skewness-1        \\n',\n",
              " 'fBodyAccJerk-Kurtosis-1        \\n',\n",
              " 'fBodyAccJerk-Skewness-1        \\n',\n",
              " 'fBodyAccJerk-Kurtosis-1        \\n',\n",
              " 'fBodyAccJerk-Skewness-1        \\n',\n",
              " 'fBodyAccJerk-Kurtosis-1        \\n',\n",
              " 'fBodyAccJerk-BandsEnergyOld-1  \\n',\n",
              " 'fBodyAccJerk-BandsEnergyOld-2  \\n',\n",
              " 'fBodyAccJerk-BandsEnergyOld-3  \\n',\n",
              " 'fBodyAccJerk-BandsEnergyOld-4  \\n',\n",
              " 'fBodyAccJerk-BandsEnergyOld-5  \\n',\n",
              " 'fBodyAccJerk-BandsEnergyOld-6  \\n',\n",
              " 'fBodyAccJerk-BandsEnergyOld-7  \\n',\n",
              " 'fBodyAccJerk-BandsEnergyOld-8  \\n',\n",
              " 'fBodyAccJerk-BandsEnergyOld-9  \\n',\n",
              " 'fBodyAccJerk-BandsEnergyOld-10 \\n',\n",
              " 'fBodyAccJerk-BandsEnergyOld-11 \\n',\n",
              " 'fBodyAccJerk-BandsEnergyOld-12 \\n',\n",
              " 'fBodyAccJerk-BandsEnergyOld-13 \\n',\n",
              " 'fBodyAccJerk-BandsEnergyOld-14 \\n',\n",
              " 'fBodyAccJerk-BandsEnergyOld-15 \\n',\n",
              " 'fBodyAccJerk-BandsEnergyOld-16 \\n',\n",
              " 'fBodyAccJerk-BandsEnergyOld-17 \\n',\n",
              " 'fBodyAccJerk-BandsEnergyOld-18 \\n',\n",
              " 'fBodyAccJerk-BandsEnergyOld-19 \\n',\n",
              " 'fBodyAccJerk-BandsEnergyOld-20 \\n',\n",
              " 'fBodyAccJerk-BandsEnergyOld-21 \\n',\n",
              " 'fBodyAccJerk-BandsEnergyOld-22 \\n',\n",
              " 'fBodyAccJerk-BandsEnergyOld-23 \\n',\n",
              " 'fBodyAccJerk-BandsEnergyOld-24 \\n',\n",
              " 'fBodyAccJerk-BandsEnergyOld-25 \\n',\n",
              " 'fBodyAccJerk-BandsEnergyOld-26 \\n',\n",
              " 'fBodyAccJerk-BandsEnergyOld-27 \\n',\n",
              " 'fBodyAccJerk-BandsEnergyOld-28 \\n',\n",
              " 'fBodyAccJerk-BandsEnergyOld-29 \\n',\n",
              " 'fBodyAccJerk-BandsEnergyOld-30 \\n',\n",
              " 'fBodyAccJerk-BandsEnergyOld-31 \\n',\n",
              " 'fBodyAccJerk-BandsEnergyOld-32 \\n',\n",
              " 'fBodyAccJerk-BandsEnergyOld-33 \\n',\n",
              " 'fBodyAccJerk-BandsEnergyOld-34 \\n',\n",
              " 'fBodyAccJerk-BandsEnergyOld-35 \\n',\n",
              " 'fBodyAccJerk-BandsEnergyOld-36 \\n',\n",
              " 'fBodyAccJerk-BandsEnergyOld-37 \\n',\n",
              " 'fBodyAccJerk-BandsEnergyOld-38 \\n',\n",
              " 'fBodyAccJerk-BandsEnergyOld-39 \\n',\n",
              " 'fBodyAccJerk-BandsEnergyOld-40 \\n',\n",
              " 'fBodyAccJerk-BandsEnergyOld-41 \\n',\n",
              " 'fBodyAccJerk-BandsEnergyOld-42 \\n',\n",
              " 'fBodyGyro-Mean-1               \\n',\n",
              " 'fBodyGyro-Mean-2               \\n',\n",
              " 'fBodyGyro-Mean-3               \\n',\n",
              " 'fBodyGyro-STD-1                \\n',\n",
              " 'fBodyGyro-STD-2                \\n',\n",
              " 'fBodyGyro-STD-3                \\n',\n",
              " 'fBodyGyro-Mad-1                \\n',\n",
              " 'fBodyGyro-Mad-2                \\n',\n",
              " 'fBodyGyro-Mad-3                \\n',\n",
              " 'fBodyGyro-Max-1                \\n',\n",
              " 'fBodyGyro-Max-2                \\n',\n",
              " 'fBodyGyro-Max-3                \\n',\n",
              " 'fBodyGyro-Min-1                \\n',\n",
              " 'fBodyGyro-Min-2                \\n',\n",
              " 'fBodyGyro-Min-3                \\n',\n",
              " 'fBodyGyro-SMA-1                \\n',\n",
              " 'fBodyGyro-Energy-1             \\n',\n",
              " 'fBodyGyro-Energy-2             \\n',\n",
              " 'fBodyGyro-Energy-3             \\n',\n",
              " 'fBodyGyro-IQR-1                \\n',\n",
              " 'fBodyGyro-IQR-2                \\n',\n",
              " 'fBodyGyro-IQR-3                \\n',\n",
              " 'fBodyGyro-ropy-1               \\n',\n",
              " 'fBodyGyro-ropy-1               \\n',\n",
              " 'fBodyGyro-ropy-1               \\n',\n",
              " 'fBodyGyro-MaxInds-1            \\n',\n",
              " 'fBodyGyro-MaxInds-2            \\n',\n",
              " 'fBodyGyro-MaxInds-3            \\n',\n",
              " 'fBodyGyro-MeanFreq-1           \\n',\n",
              " 'fBodyGyro-MeanFreq-2           \\n',\n",
              " 'fBodyGyro-MeanFreq-3           \\n',\n",
              " 'fBodyGyro-Skewness-1           \\n',\n",
              " 'fBodyGyro-Kurtosis-1           \\n',\n",
              " 'fBodyGyro-Skewness-1           \\n',\n",
              " 'fBodyGyro-Kurtosis-1           \\n',\n",
              " 'fBodyGyro-Skewness-1           \\n',\n",
              " 'fBodyGyro-Kurtosis-1           \\n',\n",
              " 'fBodyGyro-BandsEnergyOld-1     \\n',\n",
              " 'fBodyGyro-BandsEnergyOld-2     \\n',\n",
              " 'fBodyGyro-BandsEnergyOld-3     \\n',\n",
              " 'fBodyGyro-BandsEnergyOld-4     \\n',\n",
              " 'fBodyGyro-BandsEnergyOld-5     \\n',\n",
              " 'fBodyGyro-BandsEnergyOld-6     \\n',\n",
              " 'fBodyGyro-BandsEnergyOld-7     \\n',\n",
              " 'fBodyGyro-BandsEnergyOld-8     \\n',\n",
              " 'fBodyGyro-BandsEnergyOld-9     \\n',\n",
              " 'fBodyGyro-BandsEnergyOld-10    \\n',\n",
              " 'fBodyGyro-BandsEnergyOld-11    \\n',\n",
              " 'fBodyGyro-BandsEnergyOld-12    \\n',\n",
              " 'fBodyGyro-BandsEnergyOld-13    \\n',\n",
              " 'fBodyGyro-BandsEnergyOld-14    \\n',\n",
              " 'fBodyGyro-BandsEnergyOld-15    \\n',\n",
              " 'fBodyGyro-BandsEnergyOld-16    \\n',\n",
              " 'fBodyGyro-BandsEnergyOld-17    \\n',\n",
              " 'fBodyGyro-BandsEnergyOld-18    \\n',\n",
              " 'fBodyGyro-BandsEnergyOld-19    \\n',\n",
              " 'fBodyGyro-BandsEnergyOld-20    \\n',\n",
              " 'fBodyGyro-BandsEnergyOld-21    \\n',\n",
              " 'fBodyGyro-BandsEnergyOld-22    \\n',\n",
              " 'fBodyGyro-BandsEnergyOld-23    \\n',\n",
              " 'fBodyGyro-BandsEnergyOld-24    \\n',\n",
              " 'fBodyGyro-BandsEnergyOld-25    \\n',\n",
              " 'fBodyGyro-BandsEnergyOld-26    \\n',\n",
              " 'fBodyGyro-BandsEnergyOld-27    \\n',\n",
              " 'fBodyGyro-BandsEnergyOld-28    \\n',\n",
              " 'fBodyGyro-BandsEnergyOld-29    \\n',\n",
              " 'fBodyGyro-BandsEnergyOld-30    \\n',\n",
              " 'fBodyGyro-BandsEnergyOld-31    \\n',\n",
              " 'fBodyGyro-BandsEnergyOld-32    \\n',\n",
              " 'fBodyGyro-BandsEnergyOld-33    \\n',\n",
              " 'fBodyGyro-BandsEnergyOld-34    \\n',\n",
              " 'fBodyGyro-BandsEnergyOld-35    \\n',\n",
              " 'fBodyGyro-BandsEnergyOld-36    \\n',\n",
              " 'fBodyGyro-BandsEnergyOld-37    \\n',\n",
              " 'fBodyGyro-BandsEnergyOld-38    \\n',\n",
              " 'fBodyGyro-BandsEnergyOld-39    \\n',\n",
              " 'fBodyGyro-BandsEnergyOld-40    \\n',\n",
              " 'fBodyGyro-BandsEnergyOld-41    \\n',\n",
              " 'fBodyGyro-BandsEnergyOld-42    \\n',\n",
              " 'fBodyAccMag-Mean-1             \\n',\n",
              " 'fBodyAccMag-STD-1              \\n',\n",
              " 'fBodyAccMag-Mad-1              \\n',\n",
              " 'fBodyAccMag-Max-1              \\n',\n",
              " 'fBodyAccMag-Min-1              \\n',\n",
              " 'fBodyAccMag-SMA-1              \\n',\n",
              " 'fBodyAccMag-Energy-1           \\n',\n",
              " 'fBodyAccMag-IQR-1              \\n',\n",
              " 'fBodyAccMag-ropy-1             \\n',\n",
              " 'fBodyAccMag-MaxInds-1          \\n',\n",
              " 'fBodyAccMag-MeanFreq-1         \\n',\n",
              " 'fBodyAccMag-Skewness-1         \\n',\n",
              " 'fBodyAccMag-Kurtosis-1         \\n',\n",
              " 'fBodyAccJerkMag-Mean-1         \\n',\n",
              " 'fBodyAccJerkMag-STD-1          \\n',\n",
              " 'fBodyAccJerkMag-Mad-1          \\n',\n",
              " 'fBodyAccJerkMag-Max-1          \\n',\n",
              " 'fBodyAccJerkMag-Min-1          \\n',\n",
              " 'fBodyAccJerkMag-SMA-1          \\n',\n",
              " 'fBodyAccJerkMag-Energy-1       \\n',\n",
              " 'fBodyAccJerkMag-IQR-1          \\n',\n",
              " 'fBodyAccJerkMag-ropy-1         \\n',\n",
              " 'fBodyAccJerkMag-MaxInds-1      \\n',\n",
              " 'fBodyAccJerkMag-MeanFreq-1     \\n',\n",
              " 'fBodyAccJerkMag-Skewness-1     \\n',\n",
              " 'fBodyAccJerkMag-Kurtosis-1     \\n',\n",
              " 'fBodyGyroMag-Mean-1            \\n',\n",
              " 'fBodyGyroMag-STD-1             \\n',\n",
              " 'fBodyGyroMag-Mad-1             \\n',\n",
              " 'fBodyGyroMag-Max-1             \\n',\n",
              " 'fBodyGyroMag-Min-1             \\n',\n",
              " 'fBodyGyroMag-SMA-1             \\n',\n",
              " 'fBodyGyroMag-Energy-1          \\n',\n",
              " 'fBodyGyroMag-IQR-1             \\n',\n",
              " 'fBodyGyroMag-ropy-1            \\n',\n",
              " 'fBodyGyroMag-MaxInds-1         \\n',\n",
              " 'fBodyGyroMag-MeanFreq-1        \\n',\n",
              " 'fBodyGyroMag-Skewness-1        \\n',\n",
              " 'fBodyGyroMag-Kurtosis-1        \\n',\n",
              " 'fBodyGyroJerkMag-Mean-1        \\n',\n",
              " 'fBodyGyroJerkMag-STD-1         \\n',\n",
              " 'fBodyGyroJerkMag-Mad-1         \\n',\n",
              " 'fBodyGyroJerkMag-Max-1         \\n',\n",
              " 'fBodyGyroJerkMag-Min-1         \\n',\n",
              " 'fBodyGyroJerkMag-SMA-1         \\n',\n",
              " 'fBodyGyroJerkMag-Energy-1      \\n',\n",
              " 'fBodyGyroJerkMag-IQR-1         \\n',\n",
              " 'fBodyGyroJerkMag-ropy-1        \\n',\n",
              " 'fBodyGyroJerkMag-MaxInds-1     \\n',\n",
              " 'fBodyGyroJerkMag-MeanFreq-1    \\n',\n",
              " 'fBodyGyroJerkMag-Skewness-1    \\n',\n",
              " 'fBodyGyroJerkMag-Kurtosis-1    \\n',\n",
              " 'tBodyAcc-AngleWRTGravity-1     \\n',\n",
              " 'tBodyAccJerk-AngleWRTGravity-1 \\n',\n",
              " 'tBodyGyro-AngleWRTGravity-1    \\n',\n",
              " 'tBodyGyroJerk-AngleWRTGravity-1\\n',\n",
              " 'tXAxisAcc-AngleWRTGravity-1    \\n',\n",
              " 'tYAxisAcc-AngleWRTGravity-1    \\n',\n",
              " 'tZAxisAcc-AngleWRTGravity-1    \\n']"
            ]
          },
          "metadata": {
            "tags": []
          },
          "execution_count": 127
        }
      ]
    },
    {
      "cell_type": "markdown",
      "metadata": {
        "id": "r6qivM87XbLt",
        "colab_type": "text"
      },
      "source": [
        "# 2) DataFrame Creation"
      ]
    },
    {
      "cell_type": "code",
      "metadata": {
        "id": "L-_GtHjdXgv7",
        "colab_type": "code",
        "colab": {}
      },
      "source": [
        "import pandas as pd"
      ],
      "execution_count": 0,
      "outputs": []
    },
    {
      "cell_type": "markdown",
      "metadata": {
        "id": "OJSGo0AcgWbI",
        "colab_type": "text"
      },
      "source": [
        "## 1 - Train Dataframes"
      ]
    },
    {
      "cell_type": "code",
      "metadata": {
        "id": "4lqbRd1CXlvn",
        "colab_type": "code",
        "colab": {}
      },
      "source": [
        "df_X_train = pd.DataFrame(X_train,columns=tab)\n",
        "df_Y_train = pd.DataFrame(Y_train,columns=[\"classe\"])"
      ],
      "execution_count": 0,
      "outputs": []
    },
    {
      "cell_type": "markdown",
      "metadata": {
        "id": "WRL2Vwk7grxO",
        "colab_type": "text"
      },
      "source": [
        "#### Add labels to classes"
      ]
    },
    {
      "cell_type": "code",
      "metadata": {
        "id": "GoH3ebFHaNwC",
        "colab_type": "code",
        "colab": {
          "base_uri": "https://localhost:8080/",
          "height": 221
        },
        "outputId": "f8502d4e-64c8-49a6-c8e4-dbe0a627e111"
      },
      "source": [
        "dict = {}\n",
        "tab1 = []\n",
        "with open(\"activity_labels.txt\", \"r\") as classes:\n",
        "    for line in classes.readlines():\n",
        "        line = line.strip()\n",
        "        values = line.split(\" \",2)\n",
        "        values[0] = values[0] + '.0'\n",
        "        dict[float(values[0])] = values[1]\n",
        "\n",
        "dict"
      ],
      "execution_count": 130,
      "outputs": [
        {
          "output_type": "execute_result",
          "data": {
            "text/plain": [
              "{1.0: 'WALKING',\n",
              " 2.0: 'WALKING_UPSTAIRS',\n",
              " 3.0: 'WALKING_DOWNSTAIRS',\n",
              " 4.0: 'SITTING',\n",
              " 5.0: 'STANDING',\n",
              " 6.0: 'LAYING',\n",
              " 7.0: 'STAND_TO_SIT',\n",
              " 8.0: 'SIT_TO_STAND',\n",
              " 9.0: 'SIT_TO_LIE',\n",
              " 10.0: 'LIE_TO_SIT',\n",
              " 11.0: 'STAND_TO_LIE',\n",
              " 12.0: 'LIE_TO_STAND'}"
            ]
          },
          "metadata": {
            "tags": []
          },
          "execution_count": 130
        }
      ]
    },
    {
      "cell_type": "code",
      "metadata": {
        "id": "shQsCgvbgoYk",
        "colab_type": "code",
        "colab": {}
      },
      "source": [
        "df_Y_train['labels'] = df_Y_train['classe'].map(mapping)"
      ],
      "execution_count": 0,
      "outputs": []
    },
    {
      "cell_type": "markdown",
      "metadata": {
        "id": "HNccQuSog2Ub",
        "colab_type": "text"
      },
      "source": [
        "## 2- Test Dataframes"
      ]
    },
    {
      "cell_type": "code",
      "metadata": {
        "id": "pHbzffcVg63f",
        "colab_type": "code",
        "colab": {}
      },
      "source": [
        "df_X_test = pd.DataFrame(X_test,columns=tab)\n",
        "df_Y_test = pd.DataFrame(Y_test,columns=[\"classe\"])"
      ],
      "execution_count": 0,
      "outputs": []
    },
    {
      "cell_type": "markdown",
      "metadata": {
        "id": "Fm6UQpEYhNXd",
        "colab_type": "text"
      },
      "source": [
        "# 3) Search fo missing values"
      ]
    },
    {
      "cell_type": "code",
      "metadata": {
        "id": "G8SqcW_5hPEI",
        "colab_type": "code",
        "colab": {}
      },
      "source": [
        "import seaborn as sns"
      ],
      "execution_count": 0,
      "outputs": []
    },
    {
      "cell_type": "code",
      "metadata": {
        "id": "D34LG63VhSsy",
        "colab_type": "code",
        "colab": {
          "base_uri": "https://localhost:8080/",
          "height": 448
        },
        "outputId": "ad736aa1-ed2d-4929-c3cf-d76b21ed0599"
      },
      "source": [
        "sns.heatmap(df_X_train.isna())"
      ],
      "execution_count": 134,
      "outputs": [
        {
          "output_type": "execute_result",
          "data": {
            "text/plain": [
              "<matplotlib.axes._subplots.AxesSubplot at 0x7fda2cbbbe80>"
            ]
          },
          "metadata": {
            "tags": []
          },
          "execution_count": 134
        },
        {
          "output_type": "display_data",
          "data": {
            "image/png": "[encoded data removed]",
            "text/plain": [
              "<Figure size 432x288 with 2 Axes>"
            ]
          },
          "metadata": {
            "tags": []
          }
        }
      ]
    },
    {
      "cell_type": "markdown",
      "metadata": {
        "id": "8BQqPIGpiJaG",
        "colab_type": "text"
      },
      "source": [
        "Comme nous pouvons le voir ici il n'y as aucune valeur manquante dans le dataset."
      ]
    },
    {
      "cell_type": "markdown",
      "metadata": {
        "id": "N0DDnxg8i7bh",
        "colab_type": "text"
      },
      "source": [
        "# 4) Data Visualisation"
      ]
    },
    {
      "cell_type": "code",
      "metadata": {
        "id": "r2FatWjznsgO",
        "colab_type": "code",
        "colab": {}
      },
      "source": [
        "base = pd.concat([df_X_train,df_Y_train], axis=1)"
      ],
      "execution_count": 0,
      "outputs": []
    },
    {
      "cell_type": "code",
      "metadata": {
        "id": "0imkfcNnoirb",
        "colab_type": "code",
        "colab": {
          "base_uri": "https://localhost:8080/",
          "height": 357
        },
        "outputId": "e5bf695d-0c80-4df0-c075-186ff351c79f"
      },
      "source": [
        "base.columns"
      ],
      "execution_count": 136,
      "outputs": [
        {
          "output_type": "execute_result",
          "data": {
            "text/plain": [
              "Index(['tBodyAcc-Mean-1                \\n',\n",
              "       'tBodyAcc-Mean-2                \\n',\n",
              "       'tBodyAcc-Mean-3                \\n',\n",
              "       'tBodyAcc-STD-1                 \\n',\n",
              "       'tBodyAcc-STD-2                 \\n',\n",
              "       'tBodyAcc-STD-3                 \\n',\n",
              "       'tBodyAcc-Mad-1                 \\n',\n",
              "       'tBodyAcc-Mad-2                 \\n',\n",
              "       'tBodyAcc-Mad-3                 \\n',\n",
              "       'tBodyAcc-Max-1                 \\n',\n",
              "       ...\n",
              "       'fBodyGyroJerkMag-Kurtosis-1    \\n',\n",
              "       'tBodyAcc-AngleWRTGravity-1     \\n',\n",
              "       'tBodyAccJerk-AngleWRTGravity-1 \\n',\n",
              "       'tBodyGyro-AngleWRTGravity-1    \\n',\n",
              "       'tBodyGyroJerk-AngleWRTGravity-1\\n',\n",
              "       'tXAxisAcc-AngleWRTGravity-1    \\n',\n",
              "       'tYAxisAcc-AngleWRTGravity-1    \\n',\n",
              "       'tZAxisAcc-AngleWRTGravity-1    \\n', 'classe', 'labels'],\n",
              "      dtype='object', length=563)"
            ]
          },
          "metadata": {
            "tags": []
          },
          "execution_count": 136
        }
      ]
    },
    {
      "cell_type": "code",
      "metadata": {
        "id": "evAIZ9kWn5sp",
        "colab_type": "code",
        "colab": {
          "base_uri": "https://localhost:8080/",
          "height": 460
        },
        "outputId": "5eb7f5c2-5bd0-444d-af14-e4866d9d4f2d"
      },
      "source": [
        "%matplotlib inline\n",
        "g = sns.jointplot(base['tBodyAcc-Max-1                 \\n'], base[\"classe\"], kind=\"kde\")\n",
        "g.ax_joint.set_yticks(df_Y_train[\"classe\"])\n",
        "g.ax_joint.set_yticklabels(df_Y_train['labels'])\n",
        "g.fig.suptitle(\"lien entre tBodyAcc-Max-1 l'activité du patient\")"
      ],
      "execution_count": 137,
      "outputs": [
        {
          "output_type": "execute_result",
          "data": {
            "text/plain": [
              "Text(0.5, 0.98, \"lien entre tBodyAcc-Max-1 l'activité du patient\")"
            ]
          },
          "metadata": {
            "tags": []
          },
          "execution_count": 137
        },
        {
          "output_type": "display_data",
          "data": {
            "image/png": "[encoded data removed]",
            "text/plain": [
              "<Figure size 432x432 with 3 Axes>"
            ]
          },
          "metadata": {
            "tags": []
          }
        }
      ]
    },
    {
      "cell_type": "markdown",
      "metadata": {
        "id": "NaxQguETvIfT",
        "colab_type": "text"
      },
      "source": [
        "comme nous pouvons le voir ici la BodyAcceleration étant a -1 quand la personne ne bouge pas les modèles pourais donc utiliser cette valuer pour définir ces 3 positions de plus elle pourais distinguer walking upstairs et downstairs grace a cette valeur ca l'on peut voir une modification de l'accélération entre les deux."
      ]
    },
    {
      "cell_type": "markdown",
      "metadata": {
        "id": "OUTN6V_xvz8C",
        "colab_type": "text"
      },
      "source": [
        "# 5) Modelisation"
      ]
    },
    {
      "cell_type": "code",
      "metadata": {
        "id": "PJSX8O0L6Qsi",
        "colab_type": "code",
        "colab": {}
      },
      "source": [
        "from collections import OrderedDict"
      ],
      "execution_count": 0,
      "outputs": []
    },
    {
      "cell_type": "code",
      "metadata": {
        "id": "UQv0-jd9v9s3",
        "colab_type": "code",
        "colab": {}
      },
      "source": [
        "performances = {}"
      ],
      "execution_count": 0,
      "outputs": []
    },
    {
      "cell_type": "markdown",
      "metadata": {
        "id": "jH3Pz7OAv6aX",
        "colab_type": "text"
      },
      "source": [
        "## 1- Testing model performance function"
      ]
    },
    {
      "cell_type": "code",
      "metadata": {
        "id": "sW8b5e7Bv5jR",
        "colab_type": "code",
        "colab": {}
      },
      "source": [
        "def get_score(algorithme, X_train, X_test, Y_train, Y_test):\n",
        "    modele     = algorithme.fit(X_train, Y_train)\n",
        "    score      = modele.score(X_test, Y_test)\n",
        "    return score"
      ],
      "execution_count": 0,
      "outputs": []
    },
    {
      "cell_type": "markdown",
      "metadata": {
        "id": "6lPtMy6UwQI_",
        "colab_type": "text"
      },
      "source": [
        "## 2- DecisionTreeClassifier"
      ]
    },
    {
      "cell_type": "code",
      "metadata": {
        "id": "gRuve0_DwSsz",
        "colab_type": "code",
        "colab": {}
      },
      "source": [
        "from sklearn.tree import DecisionTreeClassifier\n",
        "hyperparametres = {\"random_state\" : 100}\n",
        "algorithme = DecisionTreeClassifier(**hyperparametres)\n",
        "score = get_score(algorithme, X_train, X_test, Y_train, Y_test)\n",
        "performances[algorithme] = score"
      ],
      "execution_count": 0,
      "outputs": []
    },
    {
      "cell_type": "code",
      "metadata": {
        "id": "ai6crKWs4zWO",
        "colab_type": "code",
        "colab": {}
      },
      "source": [
        "from sklearn.tree import DecisionTreeClassifier\n",
        "hyperparametres = {\"random_state\" : 1}\n",
        "algorithme = DecisionTreeClassifier(**hyperparametres)\n",
        "score = get_score(algorithme, X_train, X_test, Y_train, Y_test)\n",
        "performances[algorithme] = score"
      ],
      "execution_count": 0,
      "outputs": []
    },
    {
      "cell_type": "code",
      "metadata": {
        "id": "K6ibKmxz4zf8",
        "colab_type": "code",
        "colab": {}
      },
      "source": [
        "from sklearn.tree import DecisionTreeClassifier\n",
        "hyperparametres = {\"random_state\" : 42}\n",
        "algorithme = DecisionTreeClassifier(**hyperparametres)\n",
        "score = get_score(algorithme, X_train, X_test, Y_train, Y_test)\n",
        "performances[algorithme] = score"
      ],
      "execution_count": 0,
      "outputs": []
    },
    {
      "cell_type": "code",
      "metadata": {
        "id": "Otkw_eeJ6VOd",
        "colab_type": "code",
        "colab": {
          "base_uri": "https://localhost:8080/",
          "height": 142
        },
        "outputId": "019ebfb5-b355-4d7a-e358-77b9b8156248"
      },
      "source": [
        "dico_ordonne = OrderedDict(performances)\n",
        "df = pd.DataFrame()\n",
        "df[\"perf\"] = dico_ordonne.values()\n",
        "df[\"algo\"] = dico_ordonne.keys()\n",
        "df[\"nom_algo\"] = df.algo.map(lambda algo: str(algo).split(\"(\")[0])\n",
        "df"
      ],
      "execution_count": 164,
      "outputs": [
        {
          "output_type": "execute_result",
          "data": {
            "text/html": [
              "<div>\n",
              "<style scoped>\n",
              "    .dataframe tbody tr th:only-of-type {\n",
              "        vertical-align: middle;\n",
              "    }\n",
              "\n",
              "    .dataframe tbody tr th {\n",
              "        vertical-align: top;\n",
              "    }\n",
              "\n",
              "    .dataframe thead th {\n",
              "        text-align: right;\n",
              "    }\n",
              "</style>\n",
              "<table border=\"1\" class=\"dataframe\">\n",
              "  <thead>\n",
              "    <tr style=\"text-align: right;\">\n",
              "      <th></th>\n",
              "      <th>perf</th>\n",
              "      <th>algo</th>\n",
              "      <th>nom_algo</th>\n",
              "    </tr>\n",
              "  </thead>\n",
              "  <tbody>\n",
              "    <tr>\n",
              "      <th>0</th>\n",
              "      <td>0.802024</td>\n",
              "      <td>DecisionTreeClassifier(ccp_alpha=0.0, class_we...</td>\n",
              "      <td>DecisionTreeClassifier</td>\n",
              "    </tr>\n",
              "    <tr>\n",
              "      <th>1</th>\n",
              "      <td>0.811828</td>\n",
              "      <td>DecisionTreeClassifier(ccp_alpha=0.0, class_we...</td>\n",
              "      <td>DecisionTreeClassifier</td>\n",
              "    </tr>\n",
              "    <tr>\n",
              "      <th>2</th>\n",
              "      <td>0.805187</td>\n",
              "      <td>DecisionTreeClassifier(ccp_alpha=0.0, class_we...</td>\n",
              "      <td>DecisionTreeClassifier</td>\n",
              "    </tr>\n",
              "  </tbody>\n",
              "</table>\n",
              "</div>"
            ],
            "text/plain": [
              "       perf  ...                nom_algo\n",
              "0  0.802024  ...  DecisionTreeClassifier\n",
              "1  0.811828  ...  DecisionTreeClassifier\n",
              "2  0.805187  ...  DecisionTreeClassifier\n",
              "\n",
              "[3 rows x 3 columns]"
            ]
          },
          "metadata": {
            "tags": []
          },
          "execution_count": 164
        }
      ]
    },
    {
      "cell_type": "markdown",
      "metadata": {
        "id": "is9EivJrydLt",
        "colab_type": "text"
      },
      "source": [
        "## 3- RandomForestClassifier"
      ]
    },
    {
      "cell_type": "code",
      "metadata": {
        "id": "eZzfzSJwxyL3",
        "colab_type": "code",
        "colab": {}
      },
      "source": [
        "from sklearn.ensemble import RandomForestClassifier\n",
        "hyperparametres = {\"n_estimators\" : 5}\n",
        "algorithme = RandomForestClassifier(**hyperparametres)\n",
        "score = get_score(algorithme, X_train, X_test, Y_train, Y_test)\n",
        "performances[algorithme] = score"
      ],
      "execution_count": 0,
      "outputs": []
    },
    {
      "cell_type": "code",
      "metadata": {
        "id": "FXAt61AS41ru",
        "colab_type": "code",
        "colab": {}
      },
      "source": [
        "from sklearn.ensemble import RandomForestClassifier\n",
        "hyperparametres = {\"n_estimators\" : 10}\n",
        "algorithme = RandomForestClassifier(**hyperparametres)\n",
        "score = get_score(algorithme, X_train, X_test, Y_train, Y_test)\n",
        "performances[algorithme] = score"
      ],
      "execution_count": 0,
      "outputs": []
    },
    {
      "cell_type": "code",
      "metadata": {
        "id": "LwejrLhs42Gi",
        "colab_type": "code",
        "colab": {}
      },
      "source": [
        "from sklearn.ensemble import RandomForestClassifier\n",
        "hyperparametres = {\"n_estimators\" : 15}\n",
        "algorithme = RandomForestClassifier(**hyperparametres)\n",
        "score = get_score(algorithme, X_train, X_test, Y_train, Y_test)\n",
        "performances[algorithme] = score"
      ],
      "execution_count": 0,
      "outputs": []
    },
    {
      "cell_type": "code",
      "metadata": {
        "id": "L9gDxiFZ9dgD",
        "colab_type": "code",
        "colab": {
          "base_uri": "https://localhost:8080/",
          "height": 235
        },
        "outputId": "84d35699-08fb-49c1-f5c6-92779fd2e0a6"
      },
      "source": [
        "dico_ordonne = OrderedDict(performances)\n",
        "df = pd.DataFrame()\n",
        "df[\"perf\"] = dico_ordonne.values()\n",
        "df[\"algo\"] = dico_ordonne.keys()\n",
        "df[\"nom_algo\"] = df.algo.map(lambda algo: str(algo).split(\"(\")[0])\n",
        "df"
      ],
      "execution_count": 168,
      "outputs": [
        {
          "output_type": "execute_result",
          "data": {
            "text/html": [
              "<div>\n",
              "<style scoped>\n",
              "    .dataframe tbody tr th:only-of-type {\n",
              "        vertical-align: middle;\n",
              "    }\n",
              "\n",
              "    .dataframe tbody tr th {\n",
              "        vertical-align: top;\n",
              "    }\n",
              "\n",
              "    .dataframe thead th {\n",
              "        text-align: right;\n",
              "    }\n",
              "</style>\n",
              "<table border=\"1\" class=\"dataframe\">\n",
              "  <thead>\n",
              "    <tr style=\"text-align: right;\">\n",
              "      <th></th>\n",
              "      <th>perf</th>\n",
              "      <th>algo</th>\n",
              "      <th>nom_algo</th>\n",
              "    </tr>\n",
              "  </thead>\n",
              "  <tbody>\n",
              "    <tr>\n",
              "      <th>0</th>\n",
              "      <td>0.802024</td>\n",
              "      <td>DecisionTreeClassifier(ccp_alpha=0.0, class_we...</td>\n",
              "      <td>DecisionTreeClassifier</td>\n",
              "    </tr>\n",
              "    <tr>\n",
              "      <th>1</th>\n",
              "      <td>0.811828</td>\n",
              "      <td>DecisionTreeClassifier(ccp_alpha=0.0, class_we...</td>\n",
              "      <td>DecisionTreeClassifier</td>\n",
              "    </tr>\n",
              "    <tr>\n",
              "      <th>2</th>\n",
              "      <td>0.805187</td>\n",
              "      <td>DecisionTreeClassifier(ccp_alpha=0.0, class_we...</td>\n",
              "      <td>DecisionTreeClassifier</td>\n",
              "    </tr>\n",
              "    <tr>\n",
              "      <th>3</th>\n",
              "      <td>0.874130</td>\n",
              "      <td>(DecisionTreeClassifier(ccp_alpha=0.0, class_w...</td>\n",
              "      <td>RandomForestClassifier</td>\n",
              "    </tr>\n",
              "    <tr>\n",
              "      <th>4</th>\n",
              "      <td>0.883618</td>\n",
              "      <td>(DecisionTreeClassifier(ccp_alpha=0.0, class_w...</td>\n",
              "      <td>RandomForestClassifier</td>\n",
              "    </tr>\n",
              "    <tr>\n",
              "      <th>5</th>\n",
              "      <td>0.895636</td>\n",
              "      <td>(DecisionTreeClassifier(ccp_alpha=0.0, class_w...</td>\n",
              "      <td>RandomForestClassifier</td>\n",
              "    </tr>\n",
              "  </tbody>\n",
              "</table>\n",
              "</div>"
            ],
            "text/plain": [
              "       perf  ...                nom_algo\n",
              "0  0.802024  ...  DecisionTreeClassifier\n",
              "1  0.811828  ...  DecisionTreeClassifier\n",
              "2  0.805187  ...  DecisionTreeClassifier\n",
              "3  0.874130  ...  RandomForestClassifier\n",
              "4  0.883618  ...  RandomForestClassifier\n",
              "5  0.895636  ...  RandomForestClassifier\n",
              "\n",
              "[6 rows x 3 columns]"
            ]
          },
          "metadata": {
            "tags": []
          },
          "execution_count": 168
        }
      ]
    },
    {
      "cell_type": "markdown",
      "metadata": {
        "id": "6GGEiTmvyieo",
        "colab_type": "text"
      },
      "source": [
        "## 4- ExtraTreesClassifier"
      ]
    },
    {
      "cell_type": "code",
      "metadata": {
        "id": "0a4vLwWpyUGn",
        "colab_type": "code",
        "colab": {}
      },
      "source": [
        "from sklearn.ensemble import ExtraTreesClassifier\n",
        "hyperparametres = {\"n_estimators\" : 5}\n",
        "algorithme = ExtraTreesClassifier(**hyperparametres)\n",
        "score = get_score(algorithme, X_train, X_test, Y_train, Y_test)\n",
        "performances[algorithme] = score"
      ],
      "execution_count": 0,
      "outputs": []
    },
    {
      "cell_type": "code",
      "metadata": {
        "id": "6Ym0UGq046NF",
        "colab_type": "code",
        "colab": {}
      },
      "source": [
        "from sklearn.ensemble import ExtraTreesClassifier\n",
        "hyperparametres = {\"n_estimators\" : 10}\n",
        "algorithme = ExtraTreesClassifier(**hyperparametres)\n",
        "score = get_score(algorithme, X_train, X_test, Y_train, Y_test)\n",
        "performances[algorithme] = score"
      ],
      "execution_count": 0,
      "outputs": []
    },
    {
      "cell_type": "code",
      "metadata": {
        "id": "yirFaa2o46Rh",
        "colab_type": "code",
        "colab": {}
      },
      "source": [
        "from sklearn.ensemble import ExtraTreesClassifier\n",
        "hyperparametres = {\"n_estimators\" : 15}\n",
        "algorithme = ExtraTreesClassifier(**hyperparametres)\n",
        "score = get_score(algorithme, X_train, X_test, Y_train, Y_test)\n",
        "performances[algorithme] = score"
      ],
      "execution_count": 0,
      "outputs": []
    },
    {
      "cell_type": "code",
      "metadata": {
        "id": "Fli3rRCu9qbK",
        "colab_type": "code",
        "colab": {
          "base_uri": "https://localhost:8080/",
          "height": 328
        },
        "outputId": "8907571d-f25f-4cd2-a3c3-fdb0865f130b"
      },
      "source": [
        "dico_ordonne = OrderedDict(performances)\n",
        "df = pd.DataFrame()\n",
        "df[\"perf\"] = dico_ordonne.values()\n",
        "df[\"algo\"] = dico_ordonne.keys()\n",
        "df[\"nom_algo\"] = df.algo.map(lambda algo: str(algo).split(\"(\")[0])\n",
        "df"
      ],
      "execution_count": 172,
      "outputs": [
        {
          "output_type": "execute_result",
          "data": {
            "text/html": [
              "<div>\n",
              "<style scoped>\n",
              "    .dataframe tbody tr th:only-of-type {\n",
              "        vertical-align: middle;\n",
              "    }\n",
              "\n",
              "    .dataframe tbody tr th {\n",
              "        vertical-align: top;\n",
              "    }\n",
              "\n",
              "    .dataframe thead th {\n",
              "        text-align: right;\n",
              "    }\n",
              "</style>\n",
              "<table border=\"1\" class=\"dataframe\">\n",
              "  <thead>\n",
              "    <tr style=\"text-align: right;\">\n",
              "      <th></th>\n",
              "      <th>perf</th>\n",
              "      <th>algo</th>\n",
              "      <th>nom_algo</th>\n",
              "    </tr>\n",
              "  </thead>\n",
              "  <tbody>\n",
              "    <tr>\n",
              "      <th>0</th>\n",
              "      <td>0.802024</td>\n",
              "      <td>DecisionTreeClassifier(ccp_alpha=0.0, class_we...</td>\n",
              "      <td>DecisionTreeClassifier</td>\n",
              "    </tr>\n",
              "    <tr>\n",
              "      <th>1</th>\n",
              "      <td>0.811828</td>\n",
              "      <td>DecisionTreeClassifier(ccp_alpha=0.0, class_we...</td>\n",
              "      <td>DecisionTreeClassifier</td>\n",
              "    </tr>\n",
              "    <tr>\n",
              "      <th>2</th>\n",
              "      <td>0.805187</td>\n",
              "      <td>DecisionTreeClassifier(ccp_alpha=0.0, class_we...</td>\n",
              "      <td>DecisionTreeClassifier</td>\n",
              "    </tr>\n",
              "    <tr>\n",
              "      <th>3</th>\n",
              "      <td>0.874130</td>\n",
              "      <td>(DecisionTreeClassifier(ccp_alpha=0.0, class_w...</td>\n",
              "      <td>RandomForestClassifier</td>\n",
              "    </tr>\n",
              "    <tr>\n",
              "      <th>4</th>\n",
              "      <td>0.883618</td>\n",
              "      <td>(DecisionTreeClassifier(ccp_alpha=0.0, class_w...</td>\n",
              "      <td>RandomForestClassifier</td>\n",
              "    </tr>\n",
              "    <tr>\n",
              "      <th>5</th>\n",
              "      <td>0.895636</td>\n",
              "      <td>(DecisionTreeClassifier(ccp_alpha=0.0, class_w...</td>\n",
              "      <td>RandomForestClassifier</td>\n",
              "    </tr>\n",
              "    <tr>\n",
              "      <th>6</th>\n",
              "      <td>0.846932</td>\n",
              "      <td>(ExtraTreeClassifier(ccp_alpha=0.0, class_weig...</td>\n",
              "      <td>ExtraTreesClassifier</td>\n",
              "    </tr>\n",
              "    <tr>\n",
              "      <th>7</th>\n",
              "      <td>0.903858</td>\n",
              "      <td>(ExtraTreeClassifier(ccp_alpha=0.0, class_weig...</td>\n",
              "      <td>ExtraTreesClassifier</td>\n",
              "    </tr>\n",
              "    <tr>\n",
              "      <th>8</th>\n",
              "      <td>0.895003</td>\n",
              "      <td>(ExtraTreeClassifier(ccp_alpha=0.0, class_weig...</td>\n",
              "      <td>ExtraTreesClassifier</td>\n",
              "    </tr>\n",
              "  </tbody>\n",
              "</table>\n",
              "</div>"
            ],
            "text/plain": [
              "       perf  ...                nom_algo\n",
              "0  0.802024  ...  DecisionTreeClassifier\n",
              "1  0.811828  ...  DecisionTreeClassifier\n",
              "2  0.805187  ...  DecisionTreeClassifier\n",
              "3  0.874130  ...  RandomForestClassifier\n",
              "4  0.883618  ...  RandomForestClassifier\n",
              "5  0.895636  ...  RandomForestClassifier\n",
              "6  0.846932  ...    ExtraTreesClassifier\n",
              "7  0.903858  ...    ExtraTreesClassifier\n",
              "8  0.895003  ...    ExtraTreesClassifier\n",
              "\n",
              "[9 rows x 3 columns]"
            ]
          },
          "metadata": {
            "tags": []
          },
          "execution_count": 172
        }
      ]
    },
    {
      "cell_type": "markdown",
      "metadata": {
        "id": "IhaEvFNkyyAZ",
        "colab_type": "text"
      },
      "source": [
        "## 5- Performances"
      ]
    },
    {
      "cell_type": "code",
      "metadata": {
        "id": "LtV8dBAGy2YB",
        "colab_type": "code",
        "colab": {
          "base_uri": "https://localhost:8080/",
          "height": 378
        },
        "outputId": "37129681-1e9a-4086-ebd7-cf516e796c10"
      },
      "source": [
        "df.set_index(\"nom_algo\", inplace=True)\n",
        "\n",
        "%matplotlib inline\n",
        "df[[\"perf\"]].plot(rot=45)"
      ],
      "execution_count": 173,
      "outputs": [
        {
          "output_type": "execute_result",
          "data": {
            "text/plain": [
              "<matplotlib.axes._subplots.AxesSubplot at 0x7fda41997668>"
            ]
          },
          "metadata": {
            "tags": []
          },
          "execution_count": 173
        },
        {
          "output_type": "display_data",
          "data": {
            "image/png": "[encoded data removed]",
            "text/plain": [
              "<Figure size 432x288 with 1 Axes>"
            ]
          },
          "metadata": {
            "tags": []
          }
        }
      ]
    },
    {
      "cell_type": "markdown",
      "metadata": {
        "id": "F2hzckVm-BIx",
        "colab_type": "text"
      },
      "source": [
        "Nous pouvons donc voir que nous avons un meilleur score avec le modele ExtraTreesClassifier pour un nombre d'estimateur de 10. Le RandomForest avec une seed de 1 peut aussi etre une bonne solution un peut moins performante mais apporterai plus de stabilité du résultat du a la seed."
      ]
    },
    {
      "cell_type": "markdown",
      "metadata": {
        "id": "72rYSSpQ-KIv",
        "colab_type": "text"
      },
      "source": [
        "## 6- Stability"
      ]
    },
    {
      "cell_type": "code",
      "metadata": {
        "id": "D9t_GXxU-ONW",
        "colab_type": "code",
        "colab": {}
      },
      "source": [
        "r = []\n",
        "for i in range(100):\n",
        "    score = get_score(ExtraTreesClassifier(n_estimators=10), X_train, X_test, Y_train, Y_test )\n",
        "    r.append(score)"
      ],
      "execution_count": 0,
      "outputs": []
    },
    {
      "cell_type": "code",
      "metadata": {
        "id": "MMLhAFK7-spz",
        "colab_type": "code",
        "colab": {
          "base_uri": "https://localhost:8080/",
          "height": 286
        },
        "outputId": "85a3c665-7e5c-45e8-be2a-66a58b57f453"
      },
      "source": [
        "%matplotlib inline\n",
        "import pandas as pd\n",
        "_ = pd.DataFrame(r)\n",
        "_.plot(ylim=[0.8,1])"
      ],
      "execution_count": 181,
      "outputs": [
        {
          "output_type": "execute_result",
          "data": {
            "text/plain": [
              "<matplotlib.axes._subplots.AxesSubplot at 0x7fda42ddaf60>"
            ]
          },
          "metadata": {
            "tags": []
          },
          "execution_count": 181
        },
        {
          "output_type": "display_data",
          "data": {
            "image/png": "[encoded data removed]",
            "text/plain": [
              "<Figure size 432x288 with 1 Axes>"
            ]
          },
          "metadata": {
            "tags": []
          }
        }
      ]
    },
    {
      "cell_type": "markdown",
      "metadata": {
        "id": "m3ANbuUW-v1y",
        "colab_type": "text"
      },
      "source": [
        "Nous pouvons voir que le modèle est assez stable, il reste entre un score de 0.875 et de 0.925"
      ]
    },
    {
      "cell_type": "markdown",
      "metadata": {
        "id": "7nohmuQa_qx6",
        "colab_type": "text"
      },
      "source": [
        "# 6) Importantes features"
      ]
    },
    {
      "cell_type": "code",
      "metadata": {
        "id": "ZP_CAlfl_vWH",
        "colab_type": "code",
        "colab": {}
      },
      "source": [
        "algo        = ExtraTreesClassifier(n_estimators=10)\n",
        "modele      = algo.fit(X_train, Y_train)\n",
        "importances = modele.feature_importances_"
      ],
      "execution_count": 0,
      "outputs": []
    },
    {
      "cell_type": "code",
      "metadata": {
        "id": "xHge1Dk7_6An",
        "colab_type": "code",
        "colab": {}
      },
      "source": [
        "df_imp          = pd.DataFrame(importances).T\n",
        "df_imp.columns  = tab\n",
        "df_imp          = df_imp.T.reset_index()"
      ],
      "execution_count": 0,
      "outputs": []
    },
    {
      "cell_type": "code",
      "metadata": {
        "id": "ENgvGNs9AlMz",
        "colab_type": "code",
        "colab": {
          "base_uri": "https://localhost:8080/",
          "height": 419
        },
        "outputId": "cdc98514-5518-4ced-c1a8-ec12d39c6a5f"
      },
      "source": [
        "df_imp.sort_values(0, ascending=False)"
      ],
      "execution_count": 178,
      "outputs": [
        {
          "output_type": "execute_result",
          "data": {
            "text/html": [
              "<div>\n",
              "<style scoped>\n",
              "    .dataframe tbody tr th:only-of-type {\n",
              "        vertical-align: middle;\n",
              "    }\n",
              "\n",
              "    .dataframe tbody tr th {\n",
              "        vertical-align: top;\n",
              "    }\n",
              "\n",
              "    .dataframe thead th {\n",
              "        text-align: right;\n",
              "    }\n",
              "</style>\n",
              "<table border=\"1\" class=\"dataframe\">\n",
              "  <thead>\n",
              "    <tr style=\"text-align: right;\">\n",
              "      <th></th>\n",
              "      <th>index</th>\n",
              "      <th>0</th>\n",
              "    </tr>\n",
              "  </thead>\n",
              "  <tbody>\n",
              "    <tr>\n",
              "      <th>52</th>\n",
              "      <td>tGravityAcc-Min-1              \\n</td>\n",
              "      <td>0.039450</td>\n",
              "    </tr>\n",
              "    <tr>\n",
              "      <th>56</th>\n",
              "      <td>tGravityAcc-Energy-1           \\n</td>\n",
              "      <td>0.036255</td>\n",
              "    </tr>\n",
              "    <tr>\n",
              "      <th>53</th>\n",
              "      <td>tGravityAcc-Min-2              \\n</td>\n",
              "      <td>0.027785</td>\n",
              "    </tr>\n",
              "    <tr>\n",
              "      <th>268</th>\n",
              "      <td>fBodyAcc-STD-1                 \\n</td>\n",
              "      <td>0.020334</td>\n",
              "    </tr>\n",
              "    <tr>\n",
              "      <th>558</th>\n",
              "      <td>tXAxisAcc-AngleWRTGravity-1    \\n</td>\n",
              "      <td>0.020191</td>\n",
              "    </tr>\n",
              "    <tr>\n",
              "      <th>...</th>\n",
              "      <td>...</td>\n",
              "      <td>...</td>\n",
              "    </tr>\n",
              "    <tr>\n",
              "      <th>305</th>\n",
              "      <td>fBodyAcc-BandsEnergyOld-4      \\n</td>\n",
              "      <td>0.000140</td>\n",
              "    </tr>\n",
              "    <tr>\n",
              "      <th>341</th>\n",
              "      <td>fBodyAcc-BandsEnergyOld-40     \\n</td>\n",
              "      <td>0.000137</td>\n",
              "    </tr>\n",
              "    <tr>\n",
              "      <th>336</th>\n",
              "      <td>fBodyAcc-BandsEnergyOld-35     \\n</td>\n",
              "      <td>0.000122</td>\n",
              "    </tr>\n",
              "    <tr>\n",
              "      <th>386</th>\n",
              "      <td>fBodyAccJerk-BandsEnergyOld-6  \\n</td>\n",
              "      <td>0.000112</td>\n",
              "    </tr>\n",
              "    <tr>\n",
              "      <th>491</th>\n",
              "      <td>fBodyGyro-BandsEnergyOld-32    \\n</td>\n",
              "      <td>0.000104</td>\n",
              "    </tr>\n",
              "  </tbody>\n",
              "</table>\n",
              "<p>561 rows × 2 columns</p>\n",
              "</div>"
            ],
            "text/plain": [
              "                                 index         0\n",
              "52   tGravityAcc-Min-1              \\n  0.039450\n",
              "56   tGravityAcc-Energy-1           \\n  0.036255\n",
              "53   tGravityAcc-Min-2              \\n  0.027785\n",
              "268  fBodyAcc-STD-1                 \\n  0.020334\n",
              "558  tXAxisAcc-AngleWRTGravity-1    \\n  0.020191\n",
              "..                                 ...       ...\n",
              "305  fBodyAcc-BandsEnergyOld-4      \\n  0.000140\n",
              "341  fBodyAcc-BandsEnergyOld-40     \\n  0.000137\n",
              "336  fBodyAcc-BandsEnergyOld-35     \\n  0.000122\n",
              "386  fBodyAccJerk-BandsEnergyOld-6  \\n  0.000112\n",
              "491  fBodyGyro-BandsEnergyOld-32    \\n  0.000104\n",
              "\n",
              "[561 rows x 2 columns]"
            ]
          },
          "metadata": {
            "tags": []
          },
          "execution_count": 178
        }
      ]
    },
    {
      "cell_type": "markdown",
      "metadata": {
        "id": "HsFatvoCA6A1",
        "colab_type": "text"
      },
      "source": [
        "Cela nous permet de voir les features les plus importante utilisé par notre modèles"
      ]
    }
  ]
}